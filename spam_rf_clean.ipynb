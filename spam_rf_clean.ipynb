{
 "cells": [
  {
   "cell_type": "markdown",
   "id": "c69a0410",
   "metadata": {},
   "source": [
    "# Spam Detection with Random Forest\n",
    "\n",
    "This beginner-friendly notebook walks through a basic Natural Language Processing (NLP) workflow using SMS spam detection as the use case.\n",
    "\n",
    "We will:\n",
    "- Preprocess text data (cleaning, tokenizing, vectorizing)\n",
    "- Train a Random Forest classifier\n",
    "- Perform feature selection using feature importances\n",
    "- Use GridSearchCV for hyperparameter tuning\n",
    "- Visualize key results\n",
    "\n",
    "The dataset is the classic `spam.csv` file containing ~5.5k SMS messages labeled as \"ham\" (not spam) or \"spam\".\n"
   ]
  },
  {
   "cell_type": "code",
   "execution_count": 2,
   "id": "a34a77e0",
   "metadata": {},
   "outputs": [],
   "source": [
    "import pandas as pd\n",
    "import numpy as np\n",
    "import string\n",
    "import matplotlib.pyplot as plt\n",
    "from sklearn.model_selection import train_test_split, GridSearchCV\n",
    "from sklearn.feature_extraction.text import TfidfVectorizer\n",
    "from sklearn.ensemble import RandomForestClassifier\n",
    "from sklearn.metrics import classification_report, confusion_matrix, accuracy_score\n",
    "from sklearn.metrics import precision_score, recall_score, f1_score\n",
    "import warnings\n",
    "warnings.filterwarnings(\"ignore\")\n",
    "RANDOM_STATE = 42"
   ]
  },
  {
   "cell_type": "markdown",
   "id": "d36c6d77",
   "metadata": {},
   "source": [
    "## Load & Preview the Dataset"
   ]
  },
  {
   "cell_type": "code",
   "execution_count": 4,
   "id": "4f7c7c96",
   "metadata": {},
   "outputs": [
    {
     "data": {
      "text/html": [
       "<div>\n",
       "<style scoped>\n",
       "    .dataframe tbody tr th:only-of-type {\n",
       "        vertical-align: middle;\n",
       "    }\n",
       "\n",
       "    .dataframe tbody tr th {\n",
       "        vertical-align: top;\n",
       "    }\n",
       "\n",
       "    .dataframe thead th {\n",
       "        text-align: right;\n",
       "    }\n",
       "</style>\n",
       "<table border=\"1\" class=\"dataframe\">\n",
       "  <thead>\n",
       "    <tr style=\"text-align: right;\">\n",
       "      <th></th>\n",
       "      <th>label</th>\n",
       "      <th>text</th>\n",
       "    </tr>\n",
       "  </thead>\n",
       "  <tbody>\n",
       "    <tr>\n",
       "      <th>0</th>\n",
       "      <td>0</td>\n",
       "      <td>Go until jurong point, crazy.. Available only ...</td>\n",
       "    </tr>\n",
       "    <tr>\n",
       "      <th>1</th>\n",
       "      <td>0</td>\n",
       "      <td>Ok lar... Joking wif u oni...</td>\n",
       "    </tr>\n",
       "    <tr>\n",
       "      <th>2</th>\n",
       "      <td>1</td>\n",
       "      <td>Free entry in 2 a wkly comp to win FA Cup fina...</td>\n",
       "    </tr>\n",
       "    <tr>\n",
       "      <th>3</th>\n",
       "      <td>0</td>\n",
       "      <td>U dun say so early hor... U c already then say...</td>\n",
       "    </tr>\n",
       "    <tr>\n",
       "      <th>4</th>\n",
       "      <td>0</td>\n",
       "      <td>Nah I don't think he goes to usf, he lives aro...</td>\n",
       "    </tr>\n",
       "  </tbody>\n",
       "</table>\n",
       "</div>"
      ],
      "text/plain": [
       "   label                                               text\n",
       "0      0  Go until jurong point, crazy.. Available only ...\n",
       "1      0                      Ok lar... Joking wif u oni...\n",
       "2      1  Free entry in 2 a wkly comp to win FA Cup fina...\n",
       "3      0  U dun say so early hor... U c already then say...\n",
       "4      0  Nah I don't think he goes to usf, he lives aro..."
      ]
     },
     "execution_count": 4,
     "metadata": {},
     "output_type": "execute_result"
    }
   ],
   "source": [
    "df = pd.read_csv('spam.csv', encoding='ISO-8859-1', usecols=[0, 1], names=['label', 'text'], skiprows=1)\n",
    "df['label'] = df['label'].map({'ham': 0, 'spam': 1})\n",
    "df.head()"
   ]
  },
  {
   "cell_type": "markdown",
   "id": "3e7142de",
   "metadata": {},
   "source": [
    "## Class Distribution"
   ]
  },
  {
   "cell_type": "code",
   "execution_count": 6,
   "id": "d36577f8",
   "metadata": {},
   "outputs": [
    {
     "data": {
      "image/png": "[encoded data removed]",
      "text/plain": [
       "<Figure size 640x480 with 1 Axes>"
      ]
     },
     "metadata": {},
     "output_type": "display_data"
    }
   ],
   "source": [
    "df['label'].value_counts(normalize=True).plot(kind='bar', title='Class Distribution')\n",
    "plt.xticks([0, 1], ['Ham', 'Spam'], rotation=0)\n",
    "plt.ylabel('Proportion')\n",
    "plt.savefig(\"class_balance.png\", dpi=150, bbox_inches=\"tight\")\n",
    "plt.show()"
   ]
  },
  {
   "cell_type": "markdown",
   "id": "c4bdb394",
   "metadata": {},
   "source": [
    "## Preprocessing Function"
   ]
  },
  {
   "cell_type": "code",
   "execution_count": 8,
   "id": "23a93de8",
   "metadata": {},
   "outputs": [
    {
     "name": "stdout",
     "output_type": "stream",
     "text": [
      "hello world\n"
     ]
    }
   ],
   "source": [
    "def clean_text(text):\n",
    "    return ''.join([ch for ch in text if ch not in string.punctuation]).lower()\n",
    "print(clean_text(\"Hello, World!\"))"
   ]
  },
  {
   "cell_type": "markdown",
   "id": "c02faea3",
   "metadata": {},
   "source": [
    "## Train-Test Split"
   ]
  },
  {
   "cell_type": "code",
   "execution_count": 10,
   "id": "3ca4de32",
   "metadata": {},
   "outputs": [],
   "source": [
    "X_train, X_test, y_train, y_test = train_test_split(\n",
    "    df['text'], df['label'],\n",
    "    test_size=0.2,\n",
    "    stratify=df['label'],\n",
    "    random_state=RANDOM_STATE\n",
    ")"
   ]
  },
  {
   "cell_type": "markdown",
   "id": "442a81a4",
   "metadata": {},
   "source": [
    "## Vectorization with TF-IDF"
   ]
  },
  {
   "cell_type": "code",
   "execution_count": 12,
   "id": "8cfd25a7",
   "metadata": {},
   "outputs": [],
   "source": [
    "tfidf = TfidfVectorizer(\n",
    "    preprocessor=clean_text,\n",
    "    stop_words='english',\n",
    "    ngram_range=(1, 2),\n",
    "    min_df=2\n",
    ")\n",
    "X_train_vec = tfidf.fit_transform(X_train)\n",
    "X_test_vec = tfidf.transform(X_test)"
   ]
  },
  {
   "cell_type": "markdown",
   "id": "53dee284",
   "metadata": {},
   "source": [
    "## Baseline Random Forest"
   ]
  },
  {
   "cell_type": "code",
   "execution_count": 14,
   "id": "be4b201e",
   "metadata": {},
   "outputs": [
    {
     "name": "stdout",
     "output_type": "stream",
     "text": [
      "Accuracy: 0.9721973094170404\n",
      "              precision    recall  f1-score   support\n",
      "\n",
      "           0       0.97      1.00      0.98       966\n",
      "           1       1.00      0.79      0.88       149\n",
      "\n",
      "    accuracy                           0.97      1115\n",
      "   macro avg       0.98      0.90      0.93      1115\n",
      "weighted avg       0.97      0.97      0.97      1115\n",
      "\n"
     ]
    }
   ],
   "source": [
    "rf = RandomForestClassifier(n_estimators=200, random_state=RANDOM_STATE)\n",
    "rf.fit(X_train_vec.toarray(), y_train)\n",
    "y_pred = rf.predict(X_test_vec.toarray())\n",
    "print('Accuracy:', accuracy_score(y_test, y_pred))\n",
    "print(classification_report(y_test, y_pred))"
   ]
  },
  {
   "cell_type": "markdown",
   "id": "8f185b4e",
   "metadata": {},
   "source": [
    "## Feature Importance & Selection"
   ]
  },
  {
   "cell_type": "code",
   "execution_count": 16,
   "id": "20c7e1b6",
   "metadata": {},
   "outputs": [
    {
     "data": {
      "text/html": [
       "<div>\n",
       "<style scoped>\n",
       "    .dataframe tbody tr th:only-of-type {\n",
       "        vertical-align: middle;\n",
       "    }\n",
       "\n",
       "    .dataframe tbody tr th {\n",
       "        vertical-align: top;\n",
       "    }\n",
       "\n",
       "    .dataframe thead th {\n",
       "        text-align: right;\n",
       "    }\n",
       "</style>\n",
       "<table border=\"1\" class=\"dataframe\">\n",
       "  <thead>\n",
       "    <tr style=\"text-align: right;\">\n",
       "      <th></th>\n",
       "      <th>term</th>\n",
       "      <th>importance</th>\n",
       "    </tr>\n",
       "  </thead>\n",
       "  <tbody>\n",
       "    <tr>\n",
       "      <th>6453</th>\n",
       "      <td>txt</td>\n",
       "      <td>0.029323</td>\n",
       "    </tr>\n",
       "    <tr>\n",
       "      <th>2424</th>\n",
       "      <td>free</td>\n",
       "      <td>0.023416</td>\n",
       "    </tr>\n",
       "    <tr>\n",
       "      <th>1442</th>\n",
       "      <td>claim</td>\n",
       "      <td>0.022668</td>\n",
       "    </tr>\n",
       "    <tr>\n",
       "      <th>4185</th>\n",
       "      <td>mobile</td>\n",
       "      <td>0.021105</td>\n",
       "    </tr>\n",
       "    <tr>\n",
       "      <th>7032</th>\n",
       "      <td>won</td>\n",
       "      <td>0.016400</td>\n",
       "    </tr>\n",
       "    <tr>\n",
       "      <th>5201</th>\n",
       "      <td>reply</td>\n",
       "      <td>0.015578</td>\n",
       "    </tr>\n",
       "    <tr>\n",
       "      <th>4963</th>\n",
       "      <td>prize</td>\n",
       "      <td>0.014721</td>\n",
       "    </tr>\n",
       "    <tr>\n",
       "      <th>5497</th>\n",
       "      <td>service</td>\n",
       "      <td>0.014556</td>\n",
       "    </tr>\n",
       "    <tr>\n",
       "      <th>5875</th>\n",
       "      <td>stop</td>\n",
       "      <td>0.014384</td>\n",
       "    </tr>\n",
       "    <tr>\n",
       "      <th>6123</th>\n",
       "      <td>text</td>\n",
       "      <td>0.011978</td>\n",
       "    </tr>\n",
       "  </tbody>\n",
       "</table>\n",
       "</div>"
      ],
      "text/plain": [
       "         term  importance\n",
       "6453      txt    0.029323\n",
       "2424     free    0.023416\n",
       "1442    claim    0.022668\n",
       "4185   mobile    0.021105\n",
       "7032      won    0.016400\n",
       "5201    reply    0.015578\n",
       "4963    prize    0.014721\n",
       "5497  service    0.014556\n",
       "5875     stop    0.014384\n",
       "6123     text    0.011978"
      ]
     },
     "execution_count": 16,
     "metadata": {},
     "output_type": "execute_result"
    }
   ],
   "source": [
    "importances = rf.feature_importances_\n",
    "features = tfidf.get_feature_names_out()\n",
    "feat_df = pd.DataFrame({'term': features, 'importance': importances})\n",
    "feat_df = feat_df[feat_df['importance'] > 0.001].sort_values('importance', ascending=False)\n",
    "feat_df.head(10)"
   ]
  },
  {
   "cell_type": "markdown",
   "id": "abb399ba",
   "metadata": {},
   "source": [
    "## Re-Vectorize with Selected Features"
   ]
  },
  {
   "cell_type": "code",
   "execution_count": 18,
   "id": "6f1a86f9",
   "metadata": {},
   "outputs": [],
   "source": [
    "selected_terms = feat_df['term'].tolist()\n",
    "tfidf_sel = TfidfVectorizer(\n",
    "    preprocessor=clean_text,\n",
    "    stop_words='english',\n",
    "    vocabulary=selected_terms\n",
    ")\n",
    "X_train_sel = tfidf_sel.fit_transform(X_train)\n",
    "X_test_sel = tfidf_sel.transform(X_test)"
   ]
  },
  {
   "cell_type": "markdown",
   "id": "df9558ba",
   "metadata": {},
   "source": [
    "## GridSearchCV with Selected Features"
   ]
  },
  {
   "cell_type": "code",
   "execution_count": 20,
   "id": "c5646ef3",
   "metadata": {},
   "outputs": [
    {
     "name": "stdout",
     "output_type": "stream",
     "text": [
      "Best Params: {'max_depth': None, 'min_samples_split': 2, 'n_estimators': 200}\n"
     ]
    }
   ],
   "source": [
    "grid = GridSearchCV(\n",
    "    RandomForestClassifier(random_state=RANDOM_STATE),\n",
    "    param_grid={\n",
    "        'n_estimators': [200, 400],\n",
    "        'max_depth': [None, 25],\n",
    "        'min_samples_split': [2, 5]\n",
    "    },\n",
    "    cv=5,\n",
    "    scoring='accuracy',\n",
    "    n_jobs=-1\n",
    ")\n",
    "grid.fit(X_train_sel.toarray(), y_train)\n",
    "print('Best Params:', grid.best_params_)"
   ]
  },
  {
   "cell_type": "markdown",
   "id": "b781ec0b",
   "metadata": {},
   "source": [
    "## Final Model Evaluation"
   ]
  },
  {
   "cell_type": "code",
   "execution_count": 22,
   "id": "8de58435",
   "metadata": {},
   "outputs": [
    {
     "name": "stdout",
     "output_type": "stream",
     "text": [
      "Final Accuracy: 0.9775784753363229\n",
      "              precision    recall  f1-score   support\n",
      "\n",
      "           0       0.98      0.99      0.99       966\n",
      "           1       0.96      0.87      0.91       149\n",
      "\n",
      "    accuracy                           0.98      1115\n",
      "   macro avg       0.97      0.93      0.95      1115\n",
      "weighted avg       0.98      0.98      0.98      1115\n",
      "\n"
     ]
    },
    {
     "data": {
      "image/png": "[encoded data removed]",
      "text/plain": [
       "<Figure size 400x400 with 1 Axes>"
      ]
     },
     "metadata": {},
     "output_type": "display_data"
    }
   ],
   "source": [
    "final_rf = grid.best_estimator_\n",
    "y_final = final_rf.predict(X_test_sel.toarray())\n",
    "print('Final Accuracy:', accuracy_score(y_test, y_final))\n",
    "print(classification_report(y_test, y_final))\n",
    "confusion = confusion_matrix(y_test, y_final)\n",
    "plt.figure(figsize=(4,4))\n",
    "plt.imshow(confusion, cmap='Blues')\n",
    "plt.title('Confusion Matrix')\n",
    "plt.xlabel('Predicted')\n",
    "plt.ylabel('Actual')\n",
    "plt.show()"
   ]
  },
  {
   "cell_type": "markdown",
   "id": "f6bf6d81",
   "metadata": {},
   "source": [
    "## Classification Metrics Summary\n",
    "\n",
    "Now we compute key classification metrics discussed in the classification module:\n",
    "- **Accuracy**\n",
    "- **Precision**\n",
    "- **Recall**\n",
    "- **F1-score**\n",
    "- **Confusion matrix**"
   ]
  },
  {
   "cell_type": "code",
   "execution_count": 24,
   "id": "fa0db7a6-b9a4-49f7-984a-402c8c8b1354",
   "metadata": {},
   "outputs": [
    {
     "name": "stdout",
     "output_type": "stream",
     "text": [
      "Accuracy:  0.9776\n",
      "Precision: 0.9559\n",
      "Recall:    0.8725\n",
      "F1-score:  0.9123\n"
     ]
    }
   ],
   "source": [
    "acc = accuracy_score(y_test, y_final)\n",
    "prec = precision_score(y_test, y_final)\n",
    "rec = recall_score(y_test, y_final)\n",
    "f1 = f1_score(y_test, y_final)\n",
    "\n",
    "print(f\"Accuracy:  {acc:.4f}\")\n",
    "print(f\"Precision: {prec:.4f}\")\n",
    "print(f\"Recall:    {rec:.4f}\")\n",
    "print(f\"F1-score:  {f1:.4f}\")"
   ]
  },
  {
   "cell_type": "markdown",
   "id": "1d342b66-1f42-48d6-b112-dccb6a4edba2",
   "metadata": {},
   "source": [
    "## Conclusions\n",
    "\n",
    "✅ We built a spam classifier using Random Forest and TF-IDF vectorization.  \n",
    "✅ Feature importance was used to reduce dimensionality.  \n",
    "✅ GridSearchCV allowed us to improve performance further.  \n",
    "\n",
    "**Next ideas:**  \n",
    "- Compare with Logistic Regression or SVM  \n",
    "- Try `class_weight='balanced'` for class imbalance  \n",
    "- Explore character-level n-grams  \n"
   ]
  }
 ],
 "metadata": {
  "kernelspec": {
   "display_name": "Python [conda env:base] *",
   "language": "python",
   "name": "conda-base-py"
  },
  "language_info": {
   "codemirror_mode": {
    "name": "ipython",
    "version": 3
   },
   "file_extension": ".py",
   "mimetype": "text/x-python",
   "name": "python",
   "nbconvert_exporter": "python",
   "pygments_lexer": "ipython3",
   "version": "3.12.7"
  }
 },
 "nbformat": 4,
 "nbformat_minor": 5
}
